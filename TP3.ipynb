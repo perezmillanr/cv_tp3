{
 "cells": [
  {
   "cell_type": "markdown",
   "metadata": {},
   "source": [
    "Encontrar el logotipo de la gaseosa dentro de las imágenes provistas en\n",
    "Material_TPs/TP3/images a partir del template Material_TPs/TP3/template\n",
    "1. (4 puntos) Obtener una detección del logo en cada imagen sin falsos positivos\n",
    "2. (4 puntos) Plantear y validar un algoritmo para múltiples detecciones en la imagen\n",
    "coca_multi.png con el mismo témplate del ítem 1\n",
    "3. (2 puntos) Generalizar el algoritmo del item 2 para todas las imágenes.\n",
    "Visualizar los resultados con bounding boxes en cada imagen mostrando el nivel de confianza\n",
    "de la detección."
   ]
  },
  {
   "cell_type": "code",
   "execution_count": null,
   "metadata": {},
   "outputs": [],
   "source": []
  }
 ],
 "metadata": {
  "language_info": {
   "name": "python"
  },
  "orig_nbformat": 4
 },
 "nbformat": 4,
 "nbformat_minor": 2
}
